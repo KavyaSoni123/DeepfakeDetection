{
 "cells": [
  {
   "cell_type": "code",
   "execution_count": 7,
   "metadata": {},
   "outputs": [],
   "source": [
    "import os\n",
    "import shutil\n",
    "import random"
   ]
  },
  {
   "cell_type": "code",
   "execution_count": null,
   "metadata": {},
   "outputs": [],
   "source": [
    "\n",
    "# Paths to datasets\n",
    "real_cropped = \"Path to Real_Cropped\"\n",
    "fake_cropped = \"Path to Fake_Cropped\"\n",
    "\n",
    "# Output folders\n",
    "train_dir = \"../DeepFakeDetection/Data/ModelData/Train/\"\n",
    "test_dir = \"../DeepFakeDetection/Data/ModelData/Test/\"\n"
   ]
  },
  {
   "cell_type": "code",
   "execution_count": null,
   "metadata": {},
   "outputs": [],
   "source": [
    "# Create train-test folders\n",
    "for category in ['real', 'fake']:\n",
    "    os.makedirs(os.path.join(train_dir, category), exist_ok=True)\n",
    "    os.makedirs(os.path.join(test_dir, category), exist_ok=True)\n",
    "\n",
    "# Function to split data (85% Train, 15% Test)\n",
    "def split_and_move(source_folder, category, train_ratio=0.85):\n",
    "    videos = [f for f in os.listdir(source_folder) if f.endswith('.mp4')]\n",
    "    random.shuffle(videos)  # Shuffle data\n",
    "\n",
    "    split_idx = int(len(videos) * train_ratio)\n",
    "    train_videos = videos[:split_idx]\n",
    "    test_videos = videos[split_idx:]\n",
    "\n",
    "    # Move files\n",
    "    for vid in train_videos:\n",
    "        shutil.move(os.path.join(source_folder, vid), os.path.join(train_dir, category, vid))\n",
    "    \n",
    "    for vid in test_videos:\n",
    "        shutil.move(os.path.join(source_folder, vid), os.path.join(test_dir, category, vid))\n"
   ]
  },
  {
   "cell_type": "code",
   "execution_count": null,
   "metadata": {},
   "outputs": [],
   "source": [
    "# Creating Dataset\n",
    "split_and_move(real_cropped, 'real')\n",
    "split_and_move(fake_cropped, 'fake')"
   ]
  },
  {
   "cell_type": "code",
   "execution_count": null,
   "metadata": {},
   "outputs": [],
   "source": []
  }
 ],
 "metadata": {
  "kernelspec": {
   "display_name": "kavyasmac-wdQCnuT9",
   "language": "python",
   "name": "python3"
  },
  "language_info": {
   "codemirror_mode": {
    "name": "ipython",
    "version": 3
   },
   "file_extension": ".py",
   "mimetype": "text/x-python",
   "name": "python",
   "nbconvert_exporter": "python",
   "pygments_lexer": "ipython3",
   "version": "3.11.5"
  }
 },
 "nbformat": 4,
 "nbformat_minor": 2
}
